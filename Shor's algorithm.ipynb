{
 "cells": [
  {
   "cell_type": "markdown",
   "id": "8f61c9fb-e4e7-4128-9e04-63312b879ecc",
   "metadata": {},
   "source": [
    "# SHOR'S ALGORITHM"
   ]
  },
  {
   "cell_type": "markdown",
   "id": "2ae12e2d-21d7-4fcd-8fc5-584ff1acb73c",
   "metadata": {},
   "source": [
    "- Involves a classical + quantum sub-routine part\n",
    "- the quantum part comes from computing the period for the function $$f(x) = a^x mod N$$\n",
    "- The period $$r => a^r == 1 mod N$$"
   ]
  },
  {
   "cell_type": "markdown",
   "id": "94f20588-2e47-4a1d-9a25-b4f874fb7071",
   "metadata": {},
   "source": [
    "## ALGORITHM"
   ]
  },
  {
   "cell_type": "markdown",
   "id": "3af9a9ce-88fb-4a55-b153-7c614b3238b1",
   "metadata": {},
   "source": [
    "For a number N: (N assumed to be odd and not a perfect power aka N!= s^j)\n",
    "- Pick a random number $1<a<N$ s.t it is co-prime with N (checked by gcd = 1)\n",
    "- find the period r for the above function\n",
    "- if r is odd or $a^{r/2} == -1 mod N $ , repeat steps from start (failure, probability of this occuring is atmost 0.5 , running algorithm multiple times will push error happening on every run of the algorithm down to atmost (0.5)^(run time))\n",
    "- else : $a^r - 1 = 0 mod N => (a^{r/2} - 1)(a^{r/2} + 1) = 0 mod N$\n",
    "- both numbers are multiples of N , computing one of $gcd(a^{r/2}+-1,N)$ gives us one of the 2 prime factors required. ( can get other by dividing by N)"
   ]
  },
  {
   "cell_type": "markdown",
   "id": "2c39bfe7-1f8e-4a69-84a9-47c0ad2c59c6",
   "metadata": {},
   "source": [
    "## QUANTUM PERIOD FINDING\n",
    "- it is simply the QPE for the $U|y> = |ya (mod N)>$\n",
    "- This is applied to input state $|y=1>$ , which is an equal superposition of all eigenvalues $exp(2\\pi{i}s/r) , s = 0..r-1\n",
    "- Measured output"
   ]
  },
  {
   "cell_type": "markdown",
   "id": "4aae3195-607e-46d2-a3b0-898accc95ef4",
   "metadata": {},
   "source": [
    "# CIRCUIT CONSTRAINTS\n",
    "- in total , we need t + floor(log(N)) qubits\n",
    "- Here , t is a hyper parameter which is defined as : for an accuracy upto n bits of the phase estimated , with $$P(success)>= (1-\\epsilon)$$\n",
    "  $$t = n + ciel(log(2+1/2\\epsilon))$$\n",
    "- however , in this implementation , we choose t : $$N^2<= 2^t <=N^{2+1}$$"
   ]
  },
  {
   "cell_type": "code",
   "execution_count": null,
   "id": "31351172-ac31-4e7b-952f-1e4ee258d35f",
   "metadata": {},
   "outputs": [],
   "source": [
    "pip install qiskit"
   ]
  },
  {
   "cell_type": "code",
   "execution_count": null,
   "id": "1a77cbe6-ce60-4c35-9e96-50d66e42228e",
   "metadata": {},
   "outputs": [],
   "source": [
    "# pylint: disable=invalid-name\n",
    "import matplotlib.pyplot as plt\n",
    "import numpy as np\n",
    "from qiskit import *\n",
    "from qiskit import QuantumCircuit, transpile\n",
    "from qiskit_aer import AerSimulator\n",
    "from qiskit.visualization import plot_histogram, plot_state_city\n",
    "import qiskit.quantum_info as qi\n",
    "from qiskit.visualization import plot_histogram\n",
    "from math import gcd\n",
    "from numpy.random import randint\n",
    "import pandas as pd\n",
    "from fractions import Fraction\n",
    "print(\"Imports Successful\")"
   ]
  },
  {
   "cell_type": "markdown",
   "id": "9b53da2a-7d51-433b-ac01-70b598765a08",
   "metadata": {},
   "source": [
    "# CIRCUIT : FACTORING OF N=15"
   ]
  },
  {
   "attachments": {
    "1d2f3260-a244-4a77-9678-3168eaa5ffc8.png": {
     "image/png": "[encoded data removed]"
    }
   },
   "cell_type": "markdown",
   "id": "8767e16d-afa3-4d8a-88a8-64e2e9bf9185",
   "metadata": {},
   "source": [
    "![image.png](attachment:1d2f3260-a244-4a77-9678-3168eaa5ffc8.png)"
   ]
  },
  {
   "cell_type": "code",
   "execution_count": 3,
   "id": "575e4e85-a2ac-4d54-9237-0741788f47d3",
   "metadata": {},
   "outputs": [],
   "source": [
    "def c_amod15(a,power): # a represents the co-prime number to N(=15) \n",
    "    if a not in [2,4,7,8,11,13]:\n",
    "        print(\"a isnt co prime to 15\")\n",
    "    U = QuantumCircuit(4) #bottom log(15) qubits\n",
    "    # performing U operations based of input = a ( v specific to N = 15 's case here )\n",
    "    for it in range(power):\n",
    "        if a in [2,13]:\n",
    "            U.swap(2,3)\n",
    "            U.swap(1,2)\n",
    "            U.swap(0,1)\n",
    "        if a in [7,8]:\n",
    "            U.swap(0,1)\n",
    "            U.swap(1,2)\n",
    "            U.swap(2,3)\n",
    "        if a in [4, 11]:\n",
    "            U.swap(1,3)\n",
    "            U.swap(0,2)\n",
    "            \n",
    "        if a in [7,11,13]:\n",
    "            for q in range(4):\n",
    "                U.x(q)\n",
    "    # conv U to a gate on 4 qubits\n",
    "    U = U.to_gate()\n",
    "    U.name = f\"{a}^{power} mod 15\"\n",
    "    c_U = U.control() # making a control version of the gate\n",
    "    return c_U\n"
   ]
  },
  {
   "cell_type": "code",
   "execution_count": 4,
   "id": "b70a7ab6-1b02-40c7-a1d0-39508b37c5d8",
   "metadata": {},
   "outputs": [],
   "source": [
    "# we use t = 8 here\n",
    "t = 8\n",
    "a = 2 # can be chosen as smth else too"
   ]
  },
  {
   "cell_type": "markdown",
   "id": "11be7f46-9aab-4fa9-a60f-2f12aad06531",
   "metadata": {},
   "source": [
    "### QFT operation/ckt"
   ]
  },
  {
   "cell_type": "code",
   "execution_count": 5,
   "id": "f5dc77ed-7fc0-45a9-8ab5-adc51bde5f2c",
   "metadata": {},
   "outputs": [],
   "source": [
    "def qft_dagger(n): # n-qubit QFT inv operation\n",
    "    qc = QuantumCircuit(n)\n",
    "    # creating the ciruit using swaps and controlled phase gates\n",
    "    for qubit in range(n//2):\n",
    "        qc.swap(qubit, n-qubit-1)\n",
    "    for j in range(n):\n",
    "        for m in range(j):\n",
    "            qc.cp(-np.pi/float(2**(j-m)), m, j)\n",
    "        qc.h(j)\n",
    "    QFT_inv = qc.to_gate()\n",
    "    QFT_inv.name = \"QFT†\"\n",
    "    return QFT_inv"
   ]
  },
  {
   "cell_type": "markdown",
   "id": "1b8424ff-5f4b-4f29-8286-c032cc7d1916",
   "metadata": {},
   "source": [
    "### writing shor's algorithm"
   ]
  },
  {
   "cell_type": "code",
   "execution_count": 6,
   "id": "071a637e-ed4f-40c3-aa00-952154768630",
   "metadata": {},
   "outputs": [
    {
     "data": {
      "text/html": [
       "<pre style=\"word-wrap: normal;white-space: pre;background: #fff0;line-height: 1.1;font-family: &quot;Courier New&quot;,Courier,monospace\">      ┌───┐                                                                                                                             ┌───────┐┌─┐                     \n",
       " q_0: ┤ H ├───────■─────────────────────────────────────────────────────────────────────────────────────────────────────────────────────┤0      ├┤M├─────────────────────\n",
       "      ├───┤       │                                                                                                                     │       │└╥┘┌─┐                  \n",
       " q_1: ┤ H ├───────┼──────────────■──────────────────────────────────────────────────────────────────────────────────────────────────────┤1      ├─╫─┤M├──────────────────\n",
       "      ├───┤       │              │                                                                                                      │       │ ║ └╥┘┌─┐               \n",
       " q_2: ┤ H ├───────┼──────────────┼──────────────■───────────────────────────────────────────────────────────────────────────────────────┤2      ├─╫──╫─┤M├───────────────\n",
       "      ├───┤       │              │              │                                                                                       │       │ ║  ║ └╥┘┌─┐            \n",
       " q_3: ┤ H ├───────┼──────────────┼──────────────┼──────────────■────────────────────────────────────────────────────────────────────────┤3      ├─╫──╫──╫─┤M├────────────\n",
       "      ├───┤       │              │              │              │                                                                        │  QFT† │ ║  ║  ║ └╥┘┌─┐         \n",
       " q_4: ┤ H ├───────┼──────────────┼──────────────┼──────────────┼──────────────■─────────────────────────────────────────────────────────┤4      ├─╫──╫──╫──╫─┤M├─────────\n",
       "      ├───┤       │              │              │              │              │                                                         │       │ ║  ║  ║  ║ └╥┘┌─┐      \n",
       " q_5: ┤ H ├───────┼──────────────┼──────────────┼──────────────┼──────────────┼───────────────■─────────────────────────────────────────┤5      ├─╫──╫──╫──╫──╫─┤M├──────\n",
       "      ├───┤       │              │              │              │              │               │                                         │       │ ║  ║  ║  ║  ║ └╥┘┌─┐   \n",
       " q_6: ┤ H ├───────┼──────────────┼──────────────┼──────────────┼──────────────┼───────────────┼───────────────■─────────────────────────┤6      ├─╫──╫──╫──╫──╫──╫─┤M├───\n",
       "      ├───┤       │              │              │              │              │               │               │                         │       │ ║  ║  ║  ║  ║  ║ └╥┘┌─┐\n",
       " q_7: ┤ H ├───────┼──────────────┼──────────────┼──────────────┼──────────────┼───────────────┼───────────────┼────────────────■────────┤7      ├─╫──╫──╫──╫──╫──╫──╫─┤M├\n",
       "      ├───┤┌──────┴──────┐┌──────┴──────┐┌──────┴──────┐┌──────┴──────┐┌──────┴───────┐┌──────┴───────┐┌──────┴───────┐┌───────┴───────┐└───────┘ ║  ║  ║  ║  ║  ║  ║ └╥┘\n",
       " q_8: ┤ X ├┤0            ├┤0            ├┤0            ├┤0            ├┤0             ├┤0             ├┤0             ├┤0              ├──────────╫──╫──╫──╫──╫──╫──╫──╫─\n",
       "      └───┘│             ││             ││             ││             ││              ││              ││              ││               │          ║  ║  ║  ║  ║  ║  ║  ║ \n",
       " q_9: ─────┤1            ├┤1            ├┤1            ├┤1            ├┤1             ├┤1             ├┤1             ├┤1              ├──────────╫──╫──╫──╫──╫──╫──╫──╫─\n",
       "           │  2^1 mod 15 ││  2^2 mod 15 ││  2^4 mod 15 ││  2^8 mod 15 ││  2^16 mod 15 ││  2^32 mod 15 ││  2^64 mod 15 ││  2^128 mod 15 │          ║  ║  ║  ║  ║  ║  ║  ║ \n",
       "q_10: ─────┤2            ├┤2            ├┤2            ├┤2            ├┤2             ├┤2             ├┤2             ├┤2              ├──────────╫──╫──╫──╫──╫──╫──╫──╫─\n",
       "           │             ││             ││             ││             ││              ││              ││              ││               │          ║  ║  ║  ║  ║  ║  ║  ║ \n",
       "q_11: ─────┤3            ├┤3            ├┤3            ├┤3            ├┤3             ├┤3             ├┤3             ├┤3              ├──────────╫──╫──╫──╫──╫──╫──╫──╫─\n",
       "           └─────────────┘└─────────────┘└─────────────┘└─────────────┘└──────────────┘└──────────────┘└──────────────┘└───────────────┘          ║  ║  ║  ║  ║  ║  ║  ║ \n",
       " c: 8/════════════════════════════════════════════════════════════════════════════════════════════════════════════════════════════════════════════╩══╩══╩══╩══╩══╩══╩══╩═\n",
       "                                                                                                                                                  0  1  2  3  4  5  6  7 </pre>"
      ],
      "text/plain": [
       "      ┌───┐                                                                                                                             ┌───────┐┌─┐                     \n",
       " q_0: ┤ H ├───────■─────────────────────────────────────────────────────────────────────────────────────────────────────────────────────┤0      ├┤M├─────────────────────\n",
       "      ├───┤       │                                                                                                                     │       │└╥┘┌─┐                  \n",
       " q_1: ┤ H ├───────┼──────────────■──────────────────────────────────────────────────────────────────────────────────────────────────────┤1      ├─╫─┤M├──────────────────\n",
       "      ├───┤       │              │                                                                                                      │       │ ║ └╥┘┌─┐               \n",
       " q_2: ┤ H ├───────┼──────────────┼──────────────■───────────────────────────────────────────────────────────────────────────────────────┤2      ├─╫──╫─┤M├───────────────\n",
       "      ├───┤       │              │              │                                                                                       │       │ ║  ║ └╥┘┌─┐            \n",
       " q_3: ┤ H ├───────┼──────────────┼──────────────┼──────────────■────────────────────────────────────────────────────────────────────────┤3      ├─╫──╫──╫─┤M├────────────\n",
       "      ├───┤       │              │              │              │                                                                        │  QFT† │ ║  ║  ║ └╥┘┌─┐         \n",
       " q_4: ┤ H ├───────┼──────────────┼──────────────┼──────────────┼──────────────■─────────────────────────────────────────────────────────┤4      ├─╫──╫──╫──╫─┤M├─────────\n",
       "      ├───┤       │              │              │              │              │                                                         │       │ ║  ║  ║  ║ └╥┘┌─┐      \n",
       " q_5: ┤ H ├───────┼──────────────┼──────────────┼──────────────┼──────────────┼───────────────■─────────────────────────────────────────┤5      ├─╫──╫──╫──╫──╫─┤M├──────\n",
       "      ├───┤       │              │              │              │              │               │                                         │       │ ║  ║  ║  ║  ║ └╥┘┌─┐   \n",
       " q_6: ┤ H ├───────┼──────────────┼──────────────┼──────────────┼──────────────┼───────────────┼───────────────■─────────────────────────┤6      ├─╫──╫──╫──╫──╫──╫─┤M├───\n",
       "      ├───┤       │              │              │              │              │               │               │                         │       │ ║  ║  ║  ║  ║  ║ └╥┘┌─┐\n",
       " q_7: ┤ H ├───────┼──────────────┼──────────────┼──────────────┼──────────────┼───────────────┼───────────────┼────────────────■────────┤7      ├─╫──╫──╫──╫──╫──╫──╫─┤M├\n",
       "      ├───┤┌──────┴──────┐┌──────┴──────┐┌──────┴──────┐┌──────┴──────┐┌──────┴───────┐┌──────┴───────┐┌──────┴───────┐┌───────┴───────┐└───────┘ ║  ║  ║  ║  ║  ║  ║ └╥┘\n",
       " q_8: ┤ X ├┤0            ├┤0            ├┤0            ├┤0            ├┤0             ├┤0             ├┤0             ├┤0              ├──────────╫──╫──╫──╫──╫──╫──╫──╫─\n",
       "      └───┘│             ││             ││             ││             ││              ││              ││              ││               │          ║  ║  ║  ║  ║  ║  ║  ║ \n",
       " q_9: ─────┤1            ├┤1            ├┤1            ├┤1            ├┤1             ├┤1             ├┤1             ├┤1              ├──────────╫──╫──╫──╫──╫──╫──╫──╫─\n",
       "           │  2^1 mod 15 ││  2^2 mod 15 ││  2^4 mod 15 ││  2^8 mod 15 ││  2^16 mod 15 ││  2^32 mod 15 ││  2^64 mod 15 ││  2^128 mod 15 │          ║  ║  ║  ║  ║  ║  ║  ║ \n",
       "q_10: ─────┤2            ├┤2            ├┤2            ├┤2            ├┤2             ├┤2             ├┤2             ├┤2              ├──────────╫──╫──╫──╫──╫──╫──╫──╫─\n",
       "           │             ││             ││             ││             ││              ││              ││              ││               │          ║  ║  ║  ║  ║  ║  ║  ║ \n",
       "q_11: ─────┤3            ├┤3            ├┤3            ├┤3            ├┤3             ├┤3             ├┤3             ├┤3              ├──────────╫──╫──╫──╫──╫──╫──╫──╫─\n",
       "           └─────────────┘└─────────────┘└─────────────┘└─────────────┘└──────────────┘└──────────────┘└──────────────┘└───────────────┘          ║  ║  ║  ║  ║  ║  ║  ║ \n",
       " c: 8/════════════════════════════════════════════════════════════════════════════════════════════════════════════════════════════════════════════╩══╩══╩══╩══╩══╩══╩══╩═\n",
       "                                                                                                                                                  0  1  2  3  4  5  6  7 "
      ]
     },
     "execution_count": 6,
     "metadata": {},
     "output_type": "execute_result"
    }
   ],
   "source": [
    "qc = QuantumCircuit(t + 4 , t) # log(15) = 4 and need t classical bits to store the info\n",
    "# superimposing all initial t qbits\n",
    "for q in range(t):\n",
    "    qc.h(q)\n",
    "# rest 4 combined in state |00001>\n",
    "qc.x(t)\n",
    "# doing controlled-U operations\n",
    "# here , the 1st bit supplied (q) is the control bit for the c_U operation returned\n",
    "# by the function\n",
    "for q in range(t):\n",
    "    qc.append(c_amod15(a,2**q),[q] + [t,t+1,t+2,t+3])\n",
    "\n",
    "# applying Qft_inv\n",
    "qc.append(qft_dagger(t),range(t))\n",
    "\n",
    "# measure ckt - t qubits measure , store in t classical ones\n",
    "qc.measure(range(t),range(t))\n",
    "qc.draw(fold = -1) # draw ckt (fold = 1 makes it more like vertical)"
   ]
  },
  {
   "cell_type": "code",
   "execution_count": 7,
   "id": "4467127e-194d-4d50-b826-392e89e9cbf9",
   "metadata": {},
   "outputs": [
    {
     "data": {
      "image/png": "[encoded data removed]",
      "text/plain": [
       "<Figure size 640x480 with 1 Axes>"
      ]
     },
     "execution_count": 7,
     "metadata": {},
     "output_type": "execute_result"
    }
   ],
   "source": [
    "aer_sim = AerSimulator()\n",
    "t_qc = transpile(qc, aer_sim)\n",
    "counts = aer_sim.run(t_qc).result().get_counts()\n",
    "plot_histogram(counts)"
   ]
  },
  {
   "cell_type": "code",
   "execution_count": 8,
   "id": "faefc88f-4599-43ab-ab6d-b688236f2309",
   "metadata": {},
   "outputs": [
    {
     "name": "stdout",
     "output_type": "stream",
     "text": [
      "            Register Output           Phase\n",
      "0  11000000(bin) = 192(dec)  192/256 = 0.75\n",
      "1  01000000(bin) =  64(dec)   64/256 = 0.25\n",
      "2  10000000(bin) = 128(dec)  128/256 = 0.50\n",
      "3  00000000(bin) =   0(dec)    0/256 = 0.00\n"
     ]
    }
   ],
   "source": [
    "# this output is essentially (s/r)/2*t (t = 2n) - s is the random eigenvector number we got\n",
    "# as our input is |1> = sum of all eigenstates from s = 0 to r-1\n",
    "#converting to s/r\n",
    "rows, measured_phases = [], []\n",
    "for output in counts:\n",
    "    decimal = int(output, 2)  # Convert (base 2) string to decimal\n",
    "    phase = decimal/(2**t)  # Find corresponding eigenvalue\n",
    "    measured_phases.append(phase)\n",
    "    # Add these values to the rows in our table:\n",
    "    rows.append([f\"{output}(bin) = {decimal:>3}(dec)\",\n",
    "                 f\"{decimal}/{2**t} = {phase:.2f}\"])\n",
    "# Print the rows in a table\n",
    "headers=[\"Register Output\", \"Phase\"]\n",
    "df = pd.DataFrame(rows, columns=headers)\n",
    "print(df)"
   ]
  },
  {
   "cell_type": "code",
   "execution_count": 9,
   "id": "a55dd535-8411-48d5-b60c-02d1cdaa37a7",
   "metadata": {},
   "outputs": [
    {
     "name": "stdout",
     "output_type": "stream",
     "text": [
      "   Phase Fraction  Guess for r\n",
      "0   0.75      3/4            4\n",
      "1   0.25      1/4            4\n",
      "2   0.50      1/2            2\n",
      "3   0.00      0/1            1\n"
     ]
    }
   ],
   "source": [
    "# continued fractions to determine r\n",
    "rows = []\n",
    "for phase in measured_phases:\n",
    "    frac = Fraction(phase).limit_denominator(15) #gets the c.f expansion\n",
    "    rows.append([phase,\n",
    "                 f\"{frac.numerator}/{frac.denominator}\",\n",
    "                 frac.denominator])\n",
    "#print\n",
    "headers=[\"Phase\", \"Fraction\", \"Guess for r\"]\n",
    "df = pd.DataFrame(rows,columns = headers)\n",
    "print(df)"
   ]
  },
  {
   "cell_type": "markdown",
   "id": "7c851c13-cb2e-4f95-8005-75853fcdcc9b",
   "metadata": {},
   "source": [
    "Now we use this r to get N's factors\n",
    "$$a^r mod N = 1$$ (must be checked as algo has chance of failing)\n",
    "$$(a^r - 1) mod N = 0$$\n",
    "$$=> (a^{r/2} - 1)(a^{r/2} + 1) = 0 {mod N} $$\n",
    "thus , our factors are one of $$gcd(a^{r/2} - 1,N) , gcd(a^{r/2} + 1,N)$$"
   ]
  },
  {
   "cell_type": "code",
   "execution_count": 10,
   "id": "3ce08c2b-d0d5-4c4e-bdc7-88b358c576ce",
   "metadata": {},
   "outputs": [
    {
     "name": "stdout",
     "output_type": "stream",
     "text": [
      "3 5\n",
      "3 5\n",
      "15 1\n"
     ]
    }
   ],
   "source": [
    "N = 15\n",
    "for entry in rows:\n",
    "    r = entry[2] #our guess\n",
    "    if r%2!=0:\n",
    "        continue # failed guess\n",
    "    factor_guess = gcd(N,a^(int(r/2))-1)\n",
    "    if factor_guess in [1,15]: # choosing other one\n",
    "        factor_guess = gcd(N,a^(int(r/2)+1))\n",
    "    print(factor_guess,int(N/factor_guess))\n",
    "# we get 3 different r's which result in the non trivial factors 3 and 5"
   ]
  },
  {
   "cell_type": "markdown",
   "id": "f0b88345-e968-4a95-9a3a-ee32efc5a7ae",
   "metadata": {},
   "source": [
    "# GENERAL FACTORING (ONLY LIMITED TO V SMALL NUMBERS FOR WHICH CO - PRIMES CAN BE EASILY FOUND) + YET TO IMPLEMENT MODULAR MULTIPLICATION"
   ]
  },
  {
   "cell_type": "markdown",
   "id": "42c27db9-e9c1-4960-abdd-f2fe2182c256",
   "metadata": {},
   "source": [
    "## How to do the U operation\n",
    "- for v small numbers , you can easily find the co - primes in O(N) time , but its better to just factorize the number atp (this is ofcourse just to show the correctness of shor's algo)\n",
    "- randomly select a number from those co - primes and perform the U operations for that number (have to be hard-coded as of 19-12-24)\n",
    "- can try an approach where we just choose a = 2^j for successive j's as all are def. co prime for given N and those U's can be hardcoded easily\n",
    "- wont work well though , as each 2^j has P(failure)<= 0.5 , and successive 2^j's will give back the same period\n",
    "- as you can see , this issue of implementing U (modular exponentiation) gate is the bottleneck of shor's algorithm\n",
    "- Classically , modular exponentiation is implemented v easily and efficiently , but doing so using qubits/gates is much more difficult\n",
    "- As of now , there exists no method to implement it which isnt resulting in exponential worse case time complexity\n",
    "- Neverthless , we present a way to run Shor's algorithm in a much more general fashion"
   ]
  },
  {
   "cell_type": "markdown",
   "id": "ddb191ca-d646-408d-ac48-5717677a6ccb",
   "metadata": {},
   "source": [
    "# SHOR'S ALGORITHM FOR N = pq"
   ]
  },
  {
   "cell_type": "code",
   "execution_count": null,
   "id": "fb53be19-6152-4f57-a4cf-cf0ec7f2eaf3",
   "metadata": {},
   "outputs": [],
   "source": [
    "from qiskit import QuantumCircuit, ClassicalRegister, QuantumRegister\n",
    "# pylint: disable=invalid-name\n",
    "import matplotlib.pyplot as plt\n",
    "import numpy as np\n",
    "from qiskit import *\n",
    "from qiskit import QuantumCircuit, transpile\n",
    "from qiskit_aer import AerSimulator\n",
    "from qiskit.visualization import plot_histogram, plot_state_city\n",
    "import qiskit.quantum_info as qi\n",
    "from qiskit.visualization import plot_histogram\n",
    "from math import gcd\n",
    "from numpy.random import randint\n",
    "import pandas as pd\n",
    "from fractions import Fraction\n",
    "import random\n",
    "\n",
    "import sys\n",
    "\n",
    "import math\n",
    "import array\n",
    "import fractions\n",
    "import numpy as np\n",
    "print(\"Imports Successful\")"
   ]
  },
  {
   "attachments": {
    "06c81e32-d924-4e7e-8fbf-6fa98949d875.png": {
     "image/png": "[encoded data removed]"
    }
   },
   "cell_type": "markdown",
   "id": "a88704a8-1338-47c1-a021-89c3ae341982",
   "metadata": {},
   "source": [
    "## QFT\n",
    "![image.png](attachment:06c81e32-d924-4e7e-8fbf-6fa98949d875.png)"
   ]
  },
  {
   "cell_type": "code",
   "execution_count": 12,
   "id": "a1b51652-d126-4b79-a4c6-2ddd61248440",
   "metadata": {},
   "outputs": [],
   "source": [
    "''' Function to create QFT for a given circuit and its up_reg (num = n) , also has a \n",
    "swap-condition to increase functionality '''\n",
    "def create_QFT(circuit , up_reg , n , with_swap):\n",
    "    i = n-1\n",
    "    # pre swap , we do the operations\n",
    "    while i >= 0:\n",
    "        circuit.h(up_reg[i])\n",
    "        j = i-1\n",
    "        # now we apply the controlled phase gates R_k\n",
    "        while j>=0:\n",
    "            # applying phase gate to up_reg[j], controlled by up_reg[i]\n",
    "            if (np.pi)/(pow(2,(i-j))) > 0 :\n",
    "                circuit.cp((np.pi)/(pow(2,(i-j))) , up_reg[i] , up_reg[j])\n",
    "            j-=1\n",
    "        i-=1\n",
    "    # this is the end of the qft thing usually (with_swap = 0 usually)\n",
    "        ''' doing the swaps (optional because in places like mod multiplication the goal\n",
    "        isnt to get QFT but to rather add/multiply for which swap is unnecessary so it jus\n",
    "        contributes to inreasing gate count'''\n",
    "    if with_swap == 1:\n",
    "            i = 0\n",
    "            while i < (n-1)/2:\n",
    "                circuit.swap(up_reg[i] , up_reg[n-i-1])\n",
    "                i+=1\n",
    "        "
   ]
  },
  {
   "cell_type": "markdown",
   "id": "0d3554cf-0d20-45ad-8cd4-8ec0c12a82ae",
   "metadata": {},
   "source": [
    "## QFT_INV"
   ]
  },
  {
   "cell_type": "code",
   "execution_count": 13,
   "id": "74e9fd99-5fb8-4dc0-8d53-fdc6b2bbbb33",
   "metadata": {},
   "outputs": [],
   "source": [
    "def create_inverse_QFT(circuit,up_reg,n,with_swaps):\n",
    "    # If specified, apply the Swaps at the beggining\n",
    "    if with_swaps==1:\n",
    "        i=0\n",
    "        while i < ((n-1)/2):\n",
    "            circuit.swap(up_reg[i], up_reg[n-1-i])\n",
    "            i=i+1\n",
    "    \n",
    "    # just reversing the operations in QFT\n",
    "    i=0\n",
    "    while i<n:\n",
    "        circuit.h(up_reg[i])\n",
    "        if i != n-1:\n",
    "            j=i+1\n",
    "            y=i\n",
    "            while y>=0:\n",
    "                 if (np.pi)/(pow(2,(j-y))) > 0:\n",
    "                    circuit.cp( - (np.pi)/(pow(2,(j-y))) , up_reg[j] , up_reg[y] )\n",
    "                    y=y-1   \n",
    "        i=i+1"
   ]
  },
  {
   "cell_type": "markdown",
   "id": "fd7124f9-41a6-4a17-8772-11684b8b1f95",
   "metadata": {},
   "source": [
    "# SETTING UP MODULAR ADDITION "
   ]
  },
  {
   "cell_type": "code",
   "execution_count": 14,
   "id": "b619b4a4-0e97-474a-86b2-1b1a0f4167c8",
   "metadata": {},
   "outputs": [],
   "source": [
    "def c_cphase(circuit , angle , ctl1 , ctl2 , tgt):\n",
    "    # applies doubly controlled phase gate\n",
    "    circuit.cp(angle/2 , ctl1 , tgt)\n",
    "    circuit.cx(ctl2,ctl1)\n",
    "    circuit.cp(-angle/2 , ctl1 , tgt)\n",
    "    circuit.cx(ctl2,ctl1)\n",
    "    circuit.cp(angle/2 , ctl2 , tgt)\n",
    "    "
   ]
  },
  {
   "cell_type": "code",
   "execution_count": 15,
   "id": "1c8078fe-59aa-4685-bdad-f89d1faa9308",
   "metadata": {},
   "outputs": [],
   "source": [
    "\"\"\"Function that calculates the array of angles to be used in the addition in Fourier Space\"\"\"\n",
    "def getAngles(a,N): # note : N here is just the no. of qubits for adding a , not the N = pq\n",
    "    s=bin(int(a))[2:].zfill(N) \n",
    "    angles=np.zeros([N])\n",
    "    for i in range(0, N):\n",
    "        for j in range(i,N):\n",
    "            if s[j]=='1':\n",
    "                angles[N-i-1]+=math.pow(2, -(j-i))\n",
    "        angles[N-i-1]*=np.pi\n",
    "    return angles"
   ]
  },
  {
   "cell_type": "code",
   "execution_count": 16,
   "id": "0b09d2f9-89d3-4f2a-b19b-6ba2c82abb51",
   "metadata": {},
   "outputs": [],
   "source": [
    "''' ckt to perform add by a in the fourier space\n",
    "equivalent to subtracter if inv is set to !0 \n",
    "q is array of qubits in the ckt '''\n",
    "def phi_add(circuit , q , a , n , inv ): # n here is number of qubits more or less\n",
    "    angle = getAngles(a,n)\n",
    "    for i in range(n):\n",
    "        if inv == 0:\n",
    "            circuit.p(angle[i],q[i])\n",
    "        else:\n",
    "            circuit.p(-angle[i],q[i])"
   ]
  },
  {
   "cell_type": "code",
   "execution_count": 17,
   "id": "37ec96f5-a7b8-4653-89b3-2e652db51431",
   "metadata": {},
   "outputs": [],
   "source": [
    "\"\"\"Single controlled version of the phiADD circuit\"\"\"\n",
    "def cphiADD(circuit,q,ctl,a,n,inv): # n here is number of qubits\n",
    "    angle=getAngles(a,n)\n",
    "    for i in range(0,n):\n",
    "        if inv==0:\n",
    "            circuit.cp(angle[i],ctl,q[i])\n",
    "        else:\n",
    "            circuit.cp(-angle[i],ctl,q[i])"
   ]
  },
  {
   "cell_type": "code",
   "execution_count": 18,
   "id": "7998b1df-1a9e-4bfd-bc12-0ddb91ef6869",
   "metadata": {},
   "outputs": [],
   "source": [
    "# doubly controlled addition by a in the fourier space\n",
    "def c_cphiadd(circuit,q,ctl1,ctl2,a,N,inv):\n",
    "    angle = getAngles(a,N)\n",
    "    for i in range(N):\n",
    "        if inv == 0:\n",
    "            c_cphase(circuit , angle[i] , ctl1,ctl2,q[i])\n",
    "        else:\n",
    "            c_cphase(circuit , -angle[i] , ctl1,ctl2,q[i])"
   ]
  },
  {
   "cell_type": "code",
   "execution_count": 19,
   "id": "59dbc57d-7e5b-4508-bbcc-d9b8ab35e91a",
   "metadata": {},
   "outputs": [],
   "source": [
    "# doing doubly modular addition by a (mod N)\n",
    "def c_cphiadd_modN(circuit , q, ctl1, ctl2 , aux , a, N,n):\n",
    "    c_cphiadd(circuit,q,ctl1,ctl2,a,n,0) # add a\n",
    "    phi_add(circuit,q,N,n,1) # subtract N\n",
    "    create_inverse_QFT(circuit,q,n,0) # inv Qft to check msb for doing modular addn\n",
    "    circuit.cx(q[n-1],aux) # checking if addition by a exceeds N\n",
    "    create_QFT(circuit , q , n , 0) # recreating qft after check\n",
    "    cphiADD(circuit,q,aux,N,n,0) # adding N back if a's addition didnt exceed N\n",
    "\n",
    "\n",
    "    c_cphiadd(circuit,q,ctl1,ctl2,a,n,1) # subtracting a\n",
    "    create_inverse_QFT(circuit,q,n,0) \n",
    "    circuit.x(q[n-1])\n",
    "    circuit.cx(q[n-1],aux)\n",
    "    circuit.x(q[n-1])\n",
    "    create_QFT(circuit , q , n , 0) # recreating qft after check\n",
    "    c_cphiadd(circuit,q,ctl1,ctl2,a,n,0)\n",
    "\n",
    "\n"
   ]
  },
  {
   "cell_type": "code",
   "execution_count": 20,
   "id": "1318d6a1-7470-4aea-8152-7a704c64c61a",
   "metadata": {},
   "outputs": [],
   "source": [
    "# ckt to implement inv of doubly controlled modular addition (reverse each gate and order)\n",
    "def c_cphiadd_modN_inv(circuit, q, ctl1, ctl2, aux, a, N, n):\n",
    "    c_cphiadd(circuit, q, ctl1, ctl2, a, n, 1)\n",
    "    create_inverse_QFT(circuit, q, n, 0)\n",
    "    circuit.x(q[n-1])\n",
    "    circuit.cx(q[n-1],aux)\n",
    "    circuit.x(q[n-1])\n",
    "    create_QFT(circuit, q, n, 0)\n",
    "    c_cphiadd(circuit, q, ctl1, ctl2, a, n, 0)\n",
    "    cphiADD(circuit, q, aux, N, n, 1)\n",
    "    create_inverse_QFT(circuit, q, n, 0)\n",
    "    circuit.cx(q[n-1], aux)\n",
    "    create_QFT(circuit, q, n, 0)\n",
    "    phi_add(circuit, q, N, n, 0)\n",
    "    c_cphiadd(circuit, q, ctl1, ctl2, a, n, 1)"
   ]
  },
  {
   "cell_type": "code",
   "execution_count": 21,
   "id": "f2ec7a39-57bc-49ef-a043-dd30f107d0c5",
   "metadata": {},
   "outputs": [],
   "source": [
    "def egcd(a, b):\n",
    "    if a == 0:\n",
    "        return (b, 0, 1)\n",
    "    else:\n",
    "        g, y, x = egcd(b % a, a)\n",
    "        return (g, x - (b // a) * y, y)"
   ]
  },
  {
   "cell_type": "code",
   "execution_count": 22,
   "id": "1e4064fa-644b-4807-87ed-1838f49b71c4",
   "metadata": {},
   "outputs": [],
   "source": [
    "def modinv(a, m):\n",
    "    g, x, y = egcd(a, m)\n",
    "    if g != 1:\n",
    "        raise Exception('modular inverse does not exist')\n",
    "    else:\n",
    "        return x % m"
   ]
  },
  {
   "cell_type": "code",
   "execution_count": 23,
   "id": "b4a922ae-5fc0-4f28-b850-7aad1a0ef274",
   "metadata": {},
   "outputs": [],
   "source": [
    "def c_mult_modN(circuit,ctl1,q,aux,a,N,n): # controlled mult. by a (mod N)\n",
    "    # aux is an array of n+1 qubits set to |0>\n",
    "    create_QFT(circuit,aux,n+1,0)\n",
    "    for i in range(n):\n",
    "        c_cphiadd_modN(circuit,aux,q[i],ctl1,aux[n+1],(2**i)*a%N,N,n+1)\n",
    "    create_inverse_QFT(circuit, aux, n+1, 0)\n",
    "    for i in range(0,n): # swap contents \n",
    "        circuit.cswap(ctl1,q[i],aux[i])\n",
    "    a_inv = modinv(a,N)\n",
    "    # now multilpying contents of 2nd reg ( now in state |q> ) with a-1 mod N * aqmodN essentially\n",
    "    create_QFT(circuit,aux,n+1,0)\n",
    "    for i in range(n-1,-1,-1):\n",
    "        c_cphiadd_modN_inv(circuit,aux,q[i],ctl1,aux[n+1],math.pow(2,i)*a_inv%N,N,n+1)\n",
    "    create_inverse_QFT(circuit, aux, n+1, 0)\n",
    "    \n"
   ]
  },
  {
   "cell_type": "code",
   "execution_count": 24,
   "id": "77b5df99-63fc-4149-9f63-50ab331d3d76",
   "metadata": {},
   "outputs": [],
   "source": [
    "def get_coprime(N):\n",
    "    return random.randint(2,N-2)"
   ]
  },
  {
   "cell_type": "code",
   "execution_count": 25,
   "id": "d70fd17a-d75f-48a9-954c-197c1e76f800",
   "metadata": {},
   "outputs": [],
   "source": [
    "def Shors_Algorithm(N,a):\n",
    "    n = math.ceil(math.log(N,2)) # number of bits for N\n",
    "    # this algo uses 4n+2 qubits\n",
    "    aux  = QuantumRegister(n+2) # aux for addn / multiplication (mod N)\n",
    "    up_reg = QuantumRegister(2*n) # for QFT ( t = 2n qubits )\n",
    "    down_reg = QuantumRegister(n) # register where mod multiplication is applied\n",
    "    up_classic = ClassicalRegister(2*n) # for storing results\n",
    "\n",
    "    \"\"\" Create Quantum Circuit \"\"\"\n",
    "    circuit = QuantumCircuit(down_reg , up_reg , aux, up_classic)\n",
    "\n",
    "    # create superposn + |1> state in down registers\n",
    "    circuit.h(up_reg)\n",
    "    circuit.x(down_reg[0])\n",
    "\n",
    "    for i in range(2*n):\n",
    "        c_mult_modN(circuit,up_reg[i],down_reg,aux,int(pow(a,pow(2,i))),N,n) # controlled mult. by a^(2^i) (mod N)\n",
    "\n",
    "\n",
    "    # applying QFT_inv\n",
    "    create_inverse_QFT(circuit,up_reg,2*n,1)\n",
    "    \n",
    "    # measure top qubits\n",
    "    circuit.measure(up_reg,up_classic)\n",
    "\n",
    "    #return circuit\n",
    "    return circuit"
   ]
  },
  {
   "cell_type": "code",
   "execution_count": 26,
   "id": "f2570655-5fc7-40b5-b42f-c201cc028d04",
   "metadata": {},
   "outputs": [],
   "source": [
    "def get_answer(counts,N,n):\n",
    " t = 2*n\n",
    "    # this output is essentially (s/r)/2*t (t = 2n) - s is the random eigenvector number we got\n",
    "# as our input is |1> = sum of all eigenstates from s = 0 to r-1\n",
    "#converting to s/r\n",
    " rows, measured_phases = [], []\n",
    " for output in counts:\n",
    "    decimal = int(output, 2)  # Convert (base 2) string to decimal\n",
    "    phase = decimal/(2**t)  # Find corresponding eigenvalue\n",
    "    measured_phases.append(phase)\n",
    "    # Add these values to the rows in our table:\n",
    "    rows.append([f\"{output}(bin) = {decimal:>3}(dec)\",\n",
    "                 f\"{decimal}/{2**t} = {phase:.2f}\"])\n",
    "# Print the rows in a table\n",
    " headers=[\"Register Output\", \"Phase\"]\n",
    " df = pd.DataFrame(rows, columns=headers)\n",
    " print(df)\n",
    " # continued fractions to determine r\n",
    " rows = []\n",
    " for phase in measured_phases:\n",
    "    frac = Fraction(phase).limit_denominator(N) #gets the c.f expansion\n",
    "    rows.append([phase,\n",
    "                 f\"{frac.numerator}/{frac.denominator}\",\n",
    "                 frac.denominator])\n",
    "#print\n",
    " headers=[\"Phase\", \"Fraction\", \"Guess for r\"]\n",
    " df = pd.DataFrame(rows,columns = headers)\n",
    " print(df) \n",
    " return frac.denominator   \n",
    "    "
   ]
  },
  {
   "cell_type": "code",
   "execution_count": 31,
   "id": "1d8e13e7-f320-4000-85c0-7c2977d6e3e5",
   "metadata": {},
   "outputs": [
    {
     "name": "stdout",
     "output_type": "stream",
     "text": [
      "              Register Output            Phase\n",
      "0  0010101011(bin) = 171(dec)  171/1024 = 0.17\n",
      "      Phase Fraction  Guess for r\n",
      "0  0.166992      1/6            6\n",
      "FACTORS CANDIDATES ARE :  7 3\n"
     ]
    }
   ],
   "source": [
    "''' main program '''\n",
    "N = 21 #int(input(\"Enter number to factorize : \"))\n",
    "a = 2\n",
    "gcd = math.gcd(a,N)\n",
    "if gcd!= 1:\n",
    "    print(\"Factors are : \" , gcd , N/gcd)\n",
    "else:\n",
    "    circuit = Shors_Algorithm(N,a)\n",
    "    # draw the circuit\n",
    "    #circuit.draw(output = 'mpl') # draw ckt (fold = 1 makes it more like vertical)\n",
    "    #plt.show()\n",
    "    aer_sim = AerSimulator()\n",
    "    t_qc = transpile(circuit, aer_sim)\n",
    "    counts = aer_sim.run(t_qc,shots = 1).result().get_counts()\n",
    "    r_guess = get_answer(counts,N,math.ceil(math.log(N, 2)))\n",
    "    if r_guess%2==0:\n",
    "      period = int(r_guess / 2)\n",
    "      print(\"FACTORS CANDIDATES ARE : \",math.gcd(N, (a ** period - 1)),math.gcd(N, (a ** period + 1)))\n",
    "    else:\n",
    "      print(\"found period isn't divisible by 2, try again\")\n",
    "    \n",
    "    "
   ]
  }
 ],
 "metadata": {
  "kernelspec": {
   "display_name": "Python 3 (ipykernel)",
   "language": "python",
   "name": "python3"
  },
  "language_info": {
   "codemirror_mode": {
    "name": "ipython",
    "version": 3
   },
   "file_extension": ".py",
   "mimetype": "text/x-python",
   "name": "python",
   "nbconvert_exporter": "python",
   "pygments_lexer": "ipython3",
   "version": "3.11.7"
  }
 },
 "nbformat": 4,
 "nbformat_minor": 5
}
